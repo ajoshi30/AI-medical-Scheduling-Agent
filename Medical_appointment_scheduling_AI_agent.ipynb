{
  "nbformat": 4,
  "nbformat_minor": 0,
  "metadata": {
    "colab": {
      "provenance": []
    },
    "kernelspec": {
      "name": "python3",
      "display_name": "Python 3"
    },
    "language_info": {
      "name": "python"
    }
  },
  "cells": [
    {
      "cell_type": "code",
      "execution_count": null,
      "metadata": {
        "colab": {
          "base_uri": "https://localhost:8080/"
        },
        "id": "SeyU_lgzKkeu",
        "outputId": "3ebe6af2-954e-4aeb-9f50-358a48b1c872"
      },
      "outputs": [
        {
          "output_type": "stream",
          "name": "stdout",
          "text": [
            "\u001b[2K     \u001b[90m━━━━━━━━━━━━━━━━━━━━━━━━━━━━━━━━━━━━━━━━\u001b[0m \u001b[32m43.7/43.7 kB\u001b[0m \u001b[31m2.6 MB/s\u001b[0m eta \u001b[36m0:00:00\u001b[0m\n",
            "\u001b[2K   \u001b[90m━━━━━━━━━━━━━━━━━━━━━━━━━━━━━━━━━━━━━━━━\u001b[0m \u001b[32m153.3/153.3 kB\u001b[0m \u001b[31m4.5 MB/s\u001b[0m eta \u001b[36m0:00:00\u001b[0m\n",
            "\u001b[2K   \u001b[90m━━━━━━━━━━━━━━━━━━━━━━━━━━━━━━━━━━━━━━━━\u001b[0m \u001b[32m43.9/43.9 kB\u001b[0m \u001b[31m3.8 MB/s\u001b[0m eta \u001b[36m0:00:00\u001b[0m\n",
            "\u001b[2K   \u001b[90m━━━━━━━━━━━━━━━━━━━━━━━━━━━━━━━━━━━━━━━━\u001b[0m \u001b[32m54.1/54.1 kB\u001b[0m \u001b[31m3.5 MB/s\u001b[0m eta \u001b[36m0:00:00\u001b[0m\n",
            "\u001b[2K   \u001b[90m━━━━━━━━━━━━━━━━━━━━━━━━━━━━━━━━━━━━━━━━\u001b[0m \u001b[32m216.7/216.7 kB\u001b[0m \u001b[31m10.2 MB/s\u001b[0m eta \u001b[36m0:00:00\u001b[0m\n",
            "\u001b[?25h"
          ]
        }
      ],
      "source": [
        "%pip install -q langgraph"
      ]
    },
    {
      "cell_type": "code",
      "source": [
        "!pip install langchain langchain-google-genai\n"
      ],
      "metadata": {
        "colab": {
          "base_uri": "https://localhost:8080/",
          "height": 1000
        },
        "id": "-v59DN7AMjaB",
        "outputId": "5acfad49-a298-4326-f612-b6d12b564a28"
      },
      "execution_count": null,
      "outputs": [
        {
          "output_type": "stream",
          "name": "stdout",
          "text": [
            "Requirement already satisfied: langchain in /usr/local/lib/python3.12/dist-packages (0.3.27)\n",
            "Collecting langchain-google-genai\n",
            "  Downloading langchain_google_genai-2.1.10-py3-none-any.whl.metadata (7.2 kB)\n",
            "Requirement already satisfied: langchain-core<1.0.0,>=0.3.72 in /usr/local/lib/python3.12/dist-packages (from langchain) (0.3.74)\n",
            "Requirement already satisfied: langchain-text-splitters<1.0.0,>=0.3.9 in /usr/local/lib/python3.12/dist-packages (from langchain) (0.3.9)\n",
            "Requirement already satisfied: langsmith>=0.1.17 in /usr/local/lib/python3.12/dist-packages (from langchain) (0.4.16)\n",
            "Requirement already satisfied: pydantic<3.0.0,>=2.7.4 in /usr/local/lib/python3.12/dist-packages (from langchain) (2.11.7)\n",
            "Requirement already satisfied: SQLAlchemy<3,>=1.4 in /usr/local/lib/python3.12/dist-packages (from langchain) (2.0.43)\n",
            "Requirement already satisfied: requests<3,>=2 in /usr/local/lib/python3.12/dist-packages (from langchain) (2.32.4)\n",
            "Requirement already satisfied: PyYAML>=5.3 in /usr/local/lib/python3.12/dist-packages (from langchain) (6.0.2)\n",
            "Collecting filetype<2.0.0,>=1.2.0 (from langchain-google-genai)\n",
            "  Downloading filetype-1.2.0-py2.py3-none-any.whl.metadata (6.5 kB)\n",
            "Collecting google-ai-generativelanguage<0.7.0,>=0.6.18 (from langchain-google-genai)\n",
            "  Downloading google_ai_generativelanguage-0.6.18-py3-none-any.whl.metadata (9.8 kB)\n",
            "Collecting langchain-core<1.0.0,>=0.3.72 (from langchain)\n",
            "  Downloading langchain_core-0.3.75-py3-none-any.whl.metadata (5.7 kB)\n",
            "Requirement already satisfied: google-api-core!=2.0.*,!=2.1.*,!=2.10.*,!=2.2.*,!=2.3.*,!=2.4.*,!=2.5.*,!=2.6.*,!=2.7.*,!=2.8.*,!=2.9.*,<3.0.0,>=1.34.1 in /usr/local/lib/python3.12/dist-packages (from google-api-core[grpc]!=2.0.*,!=2.1.*,!=2.10.*,!=2.2.*,!=2.3.*,!=2.4.*,!=2.5.*,!=2.6.*,!=2.7.*,!=2.8.*,!=2.9.*,<3.0.0,>=1.34.1->google-ai-generativelanguage<0.7.0,>=0.6.18->langchain-google-genai) (2.25.1)\n",
            "Requirement already satisfied: google-auth!=2.24.0,!=2.25.0,<3.0.0,>=2.14.1 in /usr/local/lib/python3.12/dist-packages (from google-ai-generativelanguage<0.7.0,>=0.6.18->langchain-google-genai) (2.38.0)\n",
            "Requirement already satisfied: proto-plus<2.0.0,>=1.22.3 in /usr/local/lib/python3.12/dist-packages (from google-ai-generativelanguage<0.7.0,>=0.6.18->langchain-google-genai) (1.26.1)\n",
            "Requirement already satisfied: protobuf!=4.21.0,!=4.21.1,!=4.21.2,!=4.21.3,!=4.21.4,!=4.21.5,<7.0.0,>=3.20.2 in /usr/local/lib/python3.12/dist-packages (from google-ai-generativelanguage<0.7.0,>=0.6.18->langchain-google-genai) (5.29.5)\n",
            "Requirement already satisfied: tenacity!=8.4.0,<10.0.0,>=8.1.0 in /usr/local/lib/python3.12/dist-packages (from langchain-core<1.0.0,>=0.3.72->langchain) (8.5.0)\n",
            "Requirement already satisfied: jsonpatch<2.0,>=1.33 in /usr/local/lib/python3.12/dist-packages (from langchain-core<1.0.0,>=0.3.72->langchain) (1.33)\n",
            "Requirement already satisfied: typing-extensions>=4.7 in /usr/local/lib/python3.12/dist-packages (from langchain-core<1.0.0,>=0.3.72->langchain) (4.15.0)\n",
            "Requirement already satisfied: packaging>=23.2 in /usr/local/lib/python3.12/dist-packages (from langchain-core<1.0.0,>=0.3.72->langchain) (25.0)\n",
            "Requirement already satisfied: httpx<1,>=0.23.0 in /usr/local/lib/python3.12/dist-packages (from langsmith>=0.1.17->langchain) (0.28.1)\n",
            "Requirement already satisfied: orjson>=3.9.14 in /usr/local/lib/python3.12/dist-packages (from langsmith>=0.1.17->langchain) (3.11.2)\n",
            "Requirement already satisfied: requests-toolbelt>=1.0.0 in /usr/local/lib/python3.12/dist-packages (from langsmith>=0.1.17->langchain) (1.0.0)\n",
            "Requirement already satisfied: zstandard>=0.23.0 in /usr/local/lib/python3.12/dist-packages (from langsmith>=0.1.17->langchain) (0.24.0)\n",
            "Requirement already satisfied: annotated-types>=0.6.0 in /usr/local/lib/python3.12/dist-packages (from pydantic<3.0.0,>=2.7.4->langchain) (0.7.0)\n",
            "Requirement already satisfied: pydantic-core==2.33.2 in /usr/local/lib/python3.12/dist-packages (from pydantic<3.0.0,>=2.7.4->langchain) (2.33.2)\n",
            "Requirement already satisfied: typing-inspection>=0.4.0 in /usr/local/lib/python3.12/dist-packages (from pydantic<3.0.0,>=2.7.4->langchain) (0.4.1)\n",
            "Requirement already satisfied: charset_normalizer<4,>=2 in /usr/local/lib/python3.12/dist-packages (from requests<3,>=2->langchain) (3.4.3)\n",
            "Requirement already satisfied: idna<4,>=2.5 in /usr/local/lib/python3.12/dist-packages (from requests<3,>=2->langchain) (3.10)\n",
            "Requirement already satisfied: urllib3<3,>=1.21.1 in /usr/local/lib/python3.12/dist-packages (from requests<3,>=2->langchain) (2.5.0)\n",
            "Requirement already satisfied: certifi>=2017.4.17 in /usr/local/lib/python3.12/dist-packages (from requests<3,>=2->langchain) (2025.8.3)\n",
            "Requirement already satisfied: greenlet>=1 in /usr/local/lib/python3.12/dist-packages (from SQLAlchemy<3,>=1.4->langchain) (3.2.4)\n",
            "Requirement already satisfied: googleapis-common-protos<2.0.0,>=1.56.2 in /usr/local/lib/python3.12/dist-packages (from google-api-core!=2.0.*,!=2.1.*,!=2.10.*,!=2.2.*,!=2.3.*,!=2.4.*,!=2.5.*,!=2.6.*,!=2.7.*,!=2.8.*,!=2.9.*,<3.0.0,>=1.34.1->google-api-core[grpc]!=2.0.*,!=2.1.*,!=2.10.*,!=2.2.*,!=2.3.*,!=2.4.*,!=2.5.*,!=2.6.*,!=2.7.*,!=2.8.*,!=2.9.*,<3.0.0,>=1.34.1->google-ai-generativelanguage<0.7.0,>=0.6.18->langchain-google-genai) (1.70.0)\n",
            "Requirement already satisfied: grpcio<2.0.0,>=1.33.2 in /usr/local/lib/python3.12/dist-packages (from google-api-core[grpc]!=2.0.*,!=2.1.*,!=2.10.*,!=2.2.*,!=2.3.*,!=2.4.*,!=2.5.*,!=2.6.*,!=2.7.*,!=2.8.*,!=2.9.*,<3.0.0,>=1.34.1->google-ai-generativelanguage<0.7.0,>=0.6.18->langchain-google-genai) (1.74.0)\n",
            "Requirement already satisfied: grpcio-status<2.0.0,>=1.33.2 in /usr/local/lib/python3.12/dist-packages (from google-api-core[grpc]!=2.0.*,!=2.1.*,!=2.10.*,!=2.2.*,!=2.3.*,!=2.4.*,!=2.5.*,!=2.6.*,!=2.7.*,!=2.8.*,!=2.9.*,<3.0.0,>=1.34.1->google-ai-generativelanguage<0.7.0,>=0.6.18->langchain-google-genai) (1.71.2)\n",
            "Requirement already satisfied: cachetools<6.0,>=2.0.0 in /usr/local/lib/python3.12/dist-packages (from google-auth!=2.24.0,!=2.25.0,<3.0.0,>=2.14.1->google-ai-generativelanguage<0.7.0,>=0.6.18->langchain-google-genai) (5.5.2)\n",
            "Requirement already satisfied: pyasn1-modules>=0.2.1 in /usr/local/lib/python3.12/dist-packages (from google-auth!=2.24.0,!=2.25.0,<3.0.0,>=2.14.1->google-ai-generativelanguage<0.7.0,>=0.6.18->langchain-google-genai) (0.4.2)\n",
            "Requirement already satisfied: rsa<5,>=3.1.4 in /usr/local/lib/python3.12/dist-packages (from google-auth!=2.24.0,!=2.25.0,<3.0.0,>=2.14.1->google-ai-generativelanguage<0.7.0,>=0.6.18->langchain-google-genai) (4.9.1)\n",
            "Requirement already satisfied: anyio in /usr/local/lib/python3.12/dist-packages (from httpx<1,>=0.23.0->langsmith>=0.1.17->langchain) (4.10.0)\n",
            "Requirement already satisfied: httpcore==1.* in /usr/local/lib/python3.12/dist-packages (from httpx<1,>=0.23.0->langsmith>=0.1.17->langchain) (1.0.9)\n",
            "Requirement already satisfied: h11>=0.16 in /usr/local/lib/python3.12/dist-packages (from httpcore==1.*->httpx<1,>=0.23.0->langsmith>=0.1.17->langchain) (0.16.0)\n",
            "Requirement already satisfied: jsonpointer>=1.9 in /usr/local/lib/python3.12/dist-packages (from jsonpatch<2.0,>=1.33->langchain-core<1.0.0,>=0.3.72->langchain) (3.0.0)\n",
            "Requirement already satisfied: pyasn1<0.7.0,>=0.6.1 in /usr/local/lib/python3.12/dist-packages (from pyasn1-modules>=0.2.1->google-auth!=2.24.0,!=2.25.0,<3.0.0,>=2.14.1->google-ai-generativelanguage<0.7.0,>=0.6.18->langchain-google-genai) (0.6.1)\n",
            "Requirement already satisfied: sniffio>=1.1 in /usr/local/lib/python3.12/dist-packages (from anyio->httpx<1,>=0.23.0->langsmith>=0.1.17->langchain) (1.3.1)\n",
            "Downloading langchain_google_genai-2.1.10-py3-none-any.whl (49 kB)\n",
            "\u001b[2K   \u001b[90m━━━━━━━━━━━━━━━━━━━━━━━━━━━━━━━━━━━━━━━━\u001b[0m \u001b[32m49.4/49.4 kB\u001b[0m \u001b[31m2.2 MB/s\u001b[0m eta \u001b[36m0:00:00\u001b[0m\n",
            "\u001b[?25hDownloading filetype-1.2.0-py2.py3-none-any.whl (19 kB)\n",
            "Downloading google_ai_generativelanguage-0.6.18-py3-none-any.whl (1.4 MB)\n",
            "\u001b[2K   \u001b[90m━━━━━━━━━━━━━━━━━━━━━━━━━━━━━━━━━━━━━━━━\u001b[0m \u001b[32m1.4/1.4 MB\u001b[0m \u001b[31m25.5 MB/s\u001b[0m eta \u001b[36m0:00:00\u001b[0m\n",
            "\u001b[?25hDownloading langchain_core-0.3.75-py3-none-any.whl (443 kB)\n",
            "\u001b[2K   \u001b[90m━━━━━━━━━━━━━━━━━━━━━━━━━━━━━━━━━━━━━━━━\u001b[0m \u001b[32m444.0/444.0 kB\u001b[0m \u001b[31m32.1 MB/s\u001b[0m eta \u001b[36m0:00:00\u001b[0m\n",
            "\u001b[?25hInstalling collected packages: filetype, langchain-core, google-ai-generativelanguage, langchain-google-genai\n",
            "  Attempting uninstall: langchain-core\n",
            "    Found existing installation: langchain-core 0.3.74\n",
            "    Uninstalling langchain-core-0.3.74:\n",
            "      Successfully uninstalled langchain-core-0.3.74\n",
            "  Attempting uninstall: google-ai-generativelanguage\n",
            "    Found existing installation: google-ai-generativelanguage 0.6.15\n",
            "    Uninstalling google-ai-generativelanguage-0.6.15:\n",
            "      Successfully uninstalled google-ai-generativelanguage-0.6.15\n",
            "\u001b[31mERROR: pip's dependency resolver does not currently take into account all the packages that are installed. This behaviour is the source of the following dependency conflicts.\n",
            "google-generativeai 0.8.5 requires google-ai-generativelanguage==0.6.15, but you have google-ai-generativelanguage 0.6.18 which is incompatible.\u001b[0m\u001b[31m\n",
            "\u001b[0mSuccessfully installed filetype-1.2.0 google-ai-generativelanguage-0.6.18 langchain-core-0.3.75 langchain-google-genai-2.1.10\n"
          ]
        },
        {
          "output_type": "display_data",
          "data": {
            "application/vnd.colab-display-data+json": {
              "pip_warning": {
                "packages": [
                  "google"
                ]
              },
              "id": "6e3a7e435f994b82ade308a9c3d2e142"
            }
          },
          "metadata": {}
        }
      ]
    },
    {
      "cell_type": "code",
      "source": [
        "import pandas as pd\n",
        "import smtplib\n",
        "import datetime\n",
        "import random\n",
        "import uuid\n",
        "\n"
      ],
      "metadata": {
        "id": "zwacYSELM6ty"
      },
      "execution_count": null,
      "outputs": []
    },
    {
      "cell_type": "code",
      "source": [
        "from typing import TypedDict,List,Dict,Any,Optional\n",
        "import os\n",
        "from langgraph.graph import StateGraph,START,END\n",
        "from langchain_google_genai import ChatGoogleGenerativeAI\n",
        "\n",
        "from langchain_core.messages import HumanMessage\n"
      ],
      "metadata": {
        "id": "V60Pk9eVMqNT"
      },
      "execution_count": null,
      "outputs": []
    },
    {
      "cell_type": "code",
      "source": [
        "from langchain_google_genai import ChatGoogleGenerativeAI\n",
        "\n",
        "model = ChatGoogleGenerativeAI(\n",
        "    model=\"models/gemini-2.0-flash\",\n",
        "    temperature=0,\n",
        "    google_api_key=\"\"\n",
        ")"
      ],
      "metadata": {
        "id": "Bde8lpaQMvvc"
      },
      "execution_count": null,
      "outputs": []
    },
    {
      "cell_type": "code",
      "source": [
        "class AgentState(TypedDict):\n",
        "    # Basic patient info\n",
        "    name: Optional[str]\n",
        "    dob: Optional[str]          # date of birth\n",
        "    doctor: Optional[str]\n",
        "    location: Optional[str]\n",
        "\n",
        "    # Appointment details\n",
        "    is_new_patient: Optional[bool]\n",
        "    appointment_time: Optional[str]\n",
        "    appointment_id: Optional[str]\n",
        "\n",
        "    # Insurance details\n",
        "    insurance_carrier: Optional[str]\n",
        "    insurance_member_id: Optional[str]\n",
        "    insurance_group: Optional[str]\n",
        "\n",
        "    # Status flags\n",
        "    confirmation_status: Optional[str]   # e.g., \"pending\", \"confirmed\", \"cancelled\"\n",
        "    reminder_sent: Optional[int]         # how many reminders sent so far"
      ],
      "metadata": {
        "id": "TsxaKpC8MzUM"
      },
      "execution_count": null,
      "outputs": []
    },
    {
      "cell_type": "code",
      "source": [
        "from datetime import datetime\n",
        "\n",
        "# Greet Node\n",
        "def greet_patient(state: AgentState) -> AgentState:\n",
        "    user_msg = f\"My name is {state['name']}, DOB {state['dob']}, from {state['location']}.\"\n",
        "\n",
        "    response = model.invoke([HumanMessage(content=f\"\"\"\n",
        "    A patient is starting an appointment request.\n",
        "    Info: {user_msg}.\n",
        "    Write a short friendly greeting to welcome them to the clinic.\n",
        "    \"\"\")])\n",
        "\n",
        "    print(\" LLM Greeting:\", response.content)\n",
        "    return state\n",
        "\n",
        "# Lookup Patient Node\n",
        "\n",
        "\n",
        "def lookup_patient(state: AgentState) -> AgentState:\n",
        "    \"\"\"\n",
        "    Reads patients_indian.csv and sets state['is_new_patient'] = True/False\n",
        "    \"\"\"\n",
        "    try:\n",
        "        patients = pd.read_csv(\"patients_indian.csv\")\n",
        "    except FileNotFoundError:\n",
        "        print(\" patients_indian.csv not found — assuming new patient.\")\n",
        "        state[\"is_new_patient\"] = True\n",
        "        return state\n",
        "\n",
        "    name = state.get(\"name\")\n",
        "    dob  = state.get(\"dob\")\n",
        "\n",
        "    # Simple robust matching (strip + lower)\n",
        "    match = patients[\n",
        "        (patients[\"name\"].str.strip().str.lower() == (name or \"\").strip().lower()) &\n",
        "        (patients[\"dob\"].astype(str).str.strip() == str(dob).strip())\n",
        "    ]\n",
        "\n",
        "    if not match.empty:\n",
        "        state[\"is_new_patient\"] = False\n",
        "        print(f\" Returning patient detected: {name}\")\n",
        "    else:\n",
        "        state[\"is_new_patient\"] = True\n",
        "        print(f\" New patient: {name}\")\n",
        "\n",
        "    return state\n",
        "\n",
        "\n",
        "# Scheduling Node\n",
        "import pandas as pd\n",
        "from datetime import datetime\n",
        "\n",
        "def schedule_appointment(state: AgentState) -> AgentState:\n",
        "    \"\"\"\n",
        "    - Picks first available slot\n",
        "    - Sets appointment length: 60 if new patient else 30\n",
        "    - Marks slot as booked in doctor_schedule_indian.xlsx with appointment metadata\n",
        "    \"\"\"\n",
        "    try:\n",
        "        df = pd.read_excel(\"doctor_schedule_indian.xlsx\")\n",
        "    except FileNotFoundError:\n",
        "        print(\" doctor_schedule_indian.xlsx not found. Create it first.\")\n",
        "        state[\"confirmation_status\"] = \"no_schedule_file\"\n",
        "        return state\n",
        "\n",
        "    # Ensure columns exist\n",
        "    if \"status\" not in df.columns:\n",
        "        df[\"status\"] = \"free\"\n",
        "    if \"booked_by\" not in df.columns:\n",
        "        df[\"booked_by\"] = None\n",
        "    if \"appointment_id\" not in df.columns:\n",
        "        df[\"appointment_id\"] = None\n",
        "    if \"appointment_length\" not in df.columns:\n",
        "        df[\"appointment_length\"] = None\n",
        "\n",
        "    # Determine needed duration\n",
        "    is_new = state.get(\"is_new_patient\")\n",
        "    if is_new is None:\n",
        "        # fallback: assume new\n",
        "        is_new = True\n",
        "        state[\"is_new_patient\"] = True\n",
        "\n",
        "    duration = 60 if is_new else 30\n",
        "    state[\"appointment_length\"] = duration\n",
        "\n",
        "    # Find first free slot\n",
        "    free_slots = df[df[\"status\"] == \"free\"]\n",
        "    if free_slots.empty:\n",
        "        print(\" No available slots found.\")\n",
        "        state[\"confirmation_status\"] = \"no_slot\"\n",
        "        return state\n",
        "\n",
        "    slot_idx = free_slots.index[0]\n",
        "    slot = df.at[slot_idx, \"slot\"]\n",
        "    doctor = df.at[slot_idx, \"doctor\"]\n",
        "\n",
        "    appointment_id = f\"APT-{datetime.now().strftime('%Y%m%d%H%M%S')}\"\n",
        "\n",
        "    # Book the slot\n",
        "    df.at[slot_idx, \"status\"] = \"booked\"\n",
        "    df.at[slot_idx, \"booked_by\"] = state.get(\"name\")\n",
        "    df.at[slot_idx, \"appointment_id\"] = appointment_id\n",
        "    df.at[slot_idx, \"appointment_length\"] = duration\n",
        "\n",
        "    # Persist change (Calendly-style file operation)\n",
        "    df.to_excel(\"doctor_schedule_indian.xlsx\", index=False)\n",
        "\n",
        "    # Update state\n",
        "    state[\"appointment_time\"] = slot\n",
        "    state[\"doctor\"] = doctor\n",
        "    state[\"appointment_id\"] = appointment_id\n",
        "    state[\"confirmation_status\"] = \"pending\"  # will be set to confirmed later\n",
        "\n",
        "    print(f\" Booked: {state.get('name')} with {doctor} at {slot} ({duration} mins). Appointment ID: {appointment_id}\")\n",
        "    return state\n",
        "\n",
        "\n",
        "\n",
        "# Insurance Node\n",
        "def collect_insurance(state: AgentState) -> AgentState:\n",
        "    state[\"insurance_carrier\"] = \"Blue Cross\"\n",
        "    state[\"insurance_member_id\"] = \"12345\"\n",
        "    state[\"insurance_group\"] = \"A1B2\"\n",
        "    print(\" Insurance details captured\")\n",
        "    return state\n",
        "\n",
        "# Confirmation Node\n",
        "def confirm_appointment(state: AgentState) -> AgentState:\n",
        "    response = model.invoke([HumanMessage(content=f\"\"\"\n",
        "    Confirm this appointment for patient {state['name']}\n",
        "    with {state['doctor']} at {state['appointment_time']}.\n",
        "    Respond in a polite, professional tone.\n",
        "    \"\"\")])\n",
        "\n",
        "    print(\" LLM Confirmation:\", response.content)\n",
        "    state[\"confirmation_status\"] = \"confirmed\"\n",
        "    return state\n",
        "\n",
        "# Form Distribution Node\n",
        "def send_forms(state: AgentState) -> AgentState:\n",
        "    patient_name = state.get(\"name\")\n",
        "    to_email = \"demo_patient@example.com\"   # replace with patient email\n",
        "\n",
        "    # Simulate sending email\n",
        "    print(f\" Intake form sent to {to_email} (simulated email).\")\n",
        "    state[\"forms_sent\"] = True\n",
        "    return state\n",
        "# Reminder Node\n",
        "def send_reminders(state: AgentState) -> AgentState:\n",
        "    \"\"\"\n",
        "    Sends/simulates 3 reminders.\n",
        "    - Reminder 1: simple nudge\n",
        "    - Reminder 2: ask about forms; if forms not sent, simulate patient action\n",
        "    - Reminder 3: final check: if not confirmed, simulate confirm or cancel (with reason)\n",
        "    \"\"\"\n",
        "    patient_name = state.get(\"name\")\n",
        "    to_email = state.get(\"email\", \"demo_patient@example.com\")  # use real email if present\n",
        "\n",
        "    # Ensure counters and flags exist\n",
        "    state[\"reminder_sent\"] = state.get(\"reminder_sent\", 0)\n",
        "    state[\"forms_sent\"] = state.get(\"forms_sent\", False)\n",
        "    state[\"forms_completed\"] = state.get(\"forms_completed\", False)\n",
        "    state[\"cancellation_reason\"] = state.get(\"cancellation_reason\", None)\n",
        "\n",
        "    # Reminder 1\n",
        "    state[\"reminder_sent\"] = 1\n",
        "    print(f\" Reminder 1 to {patient_name} ({to_email}): Your appointment is on {state.get('appointment_time')}.\")\n",
        "\n",
        "    # Reminder 2: check forms\n",
        "    state[\"reminder_sent\"] = 2\n",
        "    if not state.get(\"forms_sent\", False):\n",
        "        # Simulate asking patient to complete forms. Simulate response:\n",
        "        responded = random.random() < 0.7  # 70% chance they complete forms after reminder\n",
        "        if responded:\n",
        "            state[\"forms_sent\"] = True\n",
        "            state[\"forms_completed\"] = True\n",
        "            print(f\" Reminder 2: patient completed intake forms (simulated).\")\n",
        "        else:\n",
        "            state[\"forms_sent\"] = False\n",
        "            state[\"forms_completed\"] = False\n",
        "            print(f\" Reminder 2: patient did NOT complete forms after reminder (simulated).\")\n",
        "    else:\n",
        "        state[\"forms_completed\"] = True\n",
        "        print(f\" Reminder 2: forms were already sent earlier.\")\n",
        "\n",
        "    # Reminder 3: final reminder with confirm/cancel action\n",
        "    state[\"reminder_sent\"] = 3\n",
        "    if state.get(\"confirmation_status\") == \"confirmed\":\n",
        "        print(f\" Reminder 3: already confirmed for {patient_name}. No further action.\")\n",
        "    else:\n",
        "        # Simulate patient decision: confirm (70%) or cancel (30%)\n",
        "        confirm = random.random() < 0.7\n",
        "        if confirm:\n",
        "            state[\"confirmation_status\"] = \"confirmed\"\n",
        "            print(f\" Reminder 3: patient confirmed the appointment (simulated).\")\n",
        "        else:\n",
        "            state[\"confirmation_status\"] = \"cancelled\"\n",
        "            # Provide a simulated cancellation reason\n",
        "            reasons = [\n",
        "                \"Scheduling conflict\",\n",
        "                \"Found a closer clinic\",\n",
        "                \"Unable to travel\",\n",
        "                \"Insurance issue\",\n",
        "                \"Feeling better\"\n",
        "            ]\n",
        "            reason = random.choice(reasons)\n",
        "            state[\"cancellation_reason\"] = reason\n",
        "            print(f\" Reminder 3: patient cancelled appointment (simulated). Reason: {reason}\")\n",
        "\n",
        "    # timestamp last reminder\n",
        "    state[\"last_reminder_at\"] = datetime.now().isoformat()\n",
        "\n",
        "    return state\n",
        "\n",
        "# Export Report Node\n",
        "def export_report(state: AgentState) -> AgentState:\n",
        "    row = {\n",
        "        \"appointment_id\": state.get(\"appointment_id\"),\n",
        "        \"name\": state.get(\"name\"),\n",
        "        \"dob\": state.get(\"dob\"),\n",
        "        \"doctor\": state.get(\"doctor\"),\n",
        "        \"slot\": state.get(\"appointment_time\"),\n",
        "        \"insurance_carrier\": state.get(\"insurance_carrier\"),\n",
        "        \"confirmation_status\": state.get(\"confirmation_status\"),\n",
        "        \"reminders_sent\": state.get(\"reminder_sent\"),\n",
        "        \"timestamp\": datetime.now()\n",
        "    }\n",
        "\n",
        "    try:\n",
        "        report = pd.read_excel(\"appointments_report.xlsx\")\n",
        "        report = pd.concat([report, pd.DataFrame([row])], ignore_index=True)\n",
        "    except FileNotFoundError:\n",
        "        # If file doesn't exist yet, create new one\n",
        "        report = pd.DataFrame([row])\n",
        "\n",
        "    report.to_excel(\"appointments_report.xlsx\", index=False)\n",
        "    print(\"Report exported to appointments_report.xlsx\")\n",
        "\n",
        "    return state\n"
      ],
      "metadata": {
        "id": "09EywzeCNKRr"
      },
      "execution_count": null,
      "outputs": []
    },
    {
      "cell_type": "code",
      "source": [
        "graph = StateGraph(AgentState)\n"
      ],
      "metadata": {
        "id": "hoMachbXNrO_"
      },
      "execution_count": null,
      "outputs": []
    },
    {
      "cell_type": "code",
      "source": [
        "graph.add_node(\"greet_patient\", greet_patient)\n",
        "graph.add_node(\"lookup_patient\", lookup_patient)\n",
        "graph.add_node(\"schedule_appointment\", schedule_appointment)\n",
        "graph.add_node(\"collect_insurance\", collect_insurance)\n",
        "graph.add_node(\"confirm_appointment\", confirm_appointment)\n",
        "graph.add_node(\"send_forms\", send_forms)\n",
        "graph.add_node(\"send_reminders\", send_reminders)\n",
        "graph.add_node(\"export_report\", export_report)\n"
      ],
      "metadata": {
        "colab": {
          "base_uri": "https://localhost:8080/"
        },
        "id": "sUO22dRyST20",
        "outputId": "adc44234-d8e0-48a1-9cc3-ac70e083aa51"
      },
      "execution_count": null,
      "outputs": [
        {
          "output_type": "execute_result",
          "data": {
            "text/plain": [
              "<langgraph.graph.state.StateGraph at 0x79e8ae58d3d0>"
            ]
          },
          "metadata": {},
          "execution_count": 101
        }
      ]
    },
    {
      "cell_type": "code",
      "source": [
        "graph.add_edge(START, \"greet_patient\")\n",
        "graph.add_edge(\"greet_patient\", \"lookup_patient\")\n",
        "graph.add_edge(\"lookup_patient\", \"schedule_appointment\")\n",
        "graph.add_edge(\"schedule_appointment\", \"collect_insurance\")\n",
        "graph.add_edge(\"collect_insurance\", \"confirm_appointment\")\n",
        "graph.add_edge(\"confirm_appointment\", \"send_forms\")\n",
        "graph.add_edge(\"send_forms\", \"send_reminders\")\n",
        "graph.add_edge(\"send_reminders\", \"export_report\")\n",
        "graph.add_edge(\"export_report\", END)\n"
      ],
      "metadata": {
        "colab": {
          "base_uri": "https://localhost:8080/"
        },
        "id": "oEGxCtE_SV7F",
        "outputId": "6bea62e8-8ac9-43fe-f545-44b20b35f072"
      },
      "execution_count": null,
      "outputs": [
        {
          "output_type": "execute_result",
          "data": {
            "text/plain": [
              "<langgraph.graph.state.StateGraph at 0x79e8ae58d3d0>"
            ]
          },
          "metadata": {},
          "execution_count": 102
        }
      ]
    },
    {
      "cell_type": "code",
      "source": [
        "app = graph.compile()\n"
      ],
      "metadata": {
        "id": "As252wGISYq5"
      },
      "execution_count": null,
      "outputs": []
    },
    {
      "cell_type": "code",
      "source": [
        "from IPython.display import Image\n",
        "display(Image(app.get_graph().draw_mermaid_png()))\n",
        "\n"
      ],
      "metadata": {
        "colab": {
          "base_uri": "https://localhost:8080/",
          "height": 945
        },
        "id": "zsDrUTNMT-_z",
        "outputId": "06fc533a-47e7-4c97-9162-0da2563f86e1"
      },
      "execution_count": null,
      "outputs": [
        {
          "output_type": "display_data",
          "data": {
            "image/png": "[encoded data removed]",
            "text/plain": [
              "<IPython.core.display.Image object>"
            ]
          },
          "metadata": {}
        }
      ]
    },
    {
      "cell_type": "code",
      "source": [
        "patients = pd.read_csv(\"/content/patients_indian.csv\")\n",
        "doctor_schedule = pd.read_excel(\"/content/doctor_schedule_indian.xlsx\")\n"
      ],
      "metadata": {
        "id": "QsixPfxvSyL_"
      },
      "execution_count": null,
      "outputs": []
    },
    {
      "cell_type": "code",
      "source": [
        "final_state = app.invoke({\n",
        "    \"name\": \"Anushka Joshi\",\n",
        "    \"dob\": \"2004-03-20\",\n",
        "    \"location\": \"India\"\n",
        "})\n",
        "\n",
        "print(final_state)\n"
      ],
      "metadata": {
        "colab": {
          "base_uri": "https://localhost:8080/"
        },
        "id": "N4ziWkUNSanh",
        "outputId": "a00c36ae-c727-4fee-8a5e-3c21fa24a993"
      },
      "execution_count": null,
      "outputs": [
        {
          "output_type": "stream",
          "name": "stdout",
          "text": [
            " LLM Greeting: Welcome, Anushka! We're happy to help you schedule an appointment.\n",
            " New patient: Anushka Joshi\n",
            " Booked: Anushka Joshi with Dr. Ahuja at 2025-09-04 9:00 (60 mins). Appointment ID: APT-20250903173140\n",
            " Insurance details captured\n",
            " LLM Confirmation: Subject: Regarding Appointment Confirmation for Anushka Joshi - September 4th\n",
            "\n",
            "Dear Anushka Joshi,\n",
            "\n",
            "This email confirms your appointment with Dr. Ahuja on September 4th, 2025, at 9:00 AM.\n",
            "\n",
            "We look forward to seeing you then. Please do not hesitate to contact us if you have any questions or need to reschedule.\n",
            "\n",
            "Sincerely,\n",
            "\n",
            "[Your Name/Clinic Name]\n",
            " Intake form sent to demo_patient@example.com (simulated email).\n",
            " Reminder 1 to Anushka Joshi (demo_patient@example.com): Your appointment is on 2025-09-04 9:00.\n",
            " Reminder 2: patient completed intake forms (simulated).\n",
            " Reminder 3: already confirmed for Anushka Joshi. No further action.\n",
            "Report exported to appointments_report.xlsx\n",
            "{'name': 'Anushka Joshi', 'dob': '2004-03-20', 'doctor': 'Dr. Ahuja', 'location': 'India', 'is_new_patient': True, 'appointment_time': '2025-09-04 9:00', 'appointment_id': 'APT-20250903173140', 'insurance_carrier': 'Blue Cross', 'insurance_member_id': '12345', 'insurance_group': 'A1B2', 'confirmation_status': 'confirmed', 'reminder_sent': 3}\n"
          ]
        }
      ]
    },
    {
      "cell_type": "code",
      "source": [
        "from email.message import EmailMessage\n",
        "\n",
        "def send_forms(state: AgentState) -> AgentState:\n",
        "    patient_name = state.get(\"name\")\n",
        "    to_email = \"demo_patient@example.com\"   # replace with patient email\n",
        "\n",
        "    msg = EmailMessage()\n",
        "    msg[\"From\"] = os.environ[\"EMAIL_USER\"]     # set Gmail or other in env vars\n",
        "    msg[\"To\"] = to_email\n",
        "    msg[\"Subject\"] = \"Your Intake Form\"\n",
        "    msg.set_content(f\"Hello {patient_name},\\n\\nPlease find attached your intake form.\")\n",
        "\n",
        "    # Attach the PDF form\n",
        "    with open(\"New Patient Intake Form.pdf\", \"rb\") as f:\n",
        "        file_data = f.read()\n",
        "    msg.add_attachment(file_data, maintype=\"application\", subtype=\"pdf\", filename=\"Intake_Form.pdf\")\n",
        "\n",
        "    # Send email (requires Gmail/Twilio or any SMTP)\n",
        "    with smtplib.SMTP_SSL(\"smtp.gmail.com\", 465) as smtp:\n",
        "        smtp.login(os.environ[\"EMAIL_USER\"], os.environ[\"EMAIL_PASS\"])\n",
        "        smtp.send_message(msg)\n",
        "\n",
        "    print(f\" Intake form sent to {to_email}\")\n",
        "    state[\"forms_sent\"] = True\n",
        "    return state\n"
      ],
      "metadata": {
        "id": "d9LK_o-koEtF"
      },
      "execution_count": null,
      "outputs": []
    },
    {
      "cell_type": "code",
      "source": [
        "\n",
        "def send_reminders(state: AgentState) -> AgentState:\n",
        "    patient_name = state.get(\"name\")\n",
        "    to_email = \"demo_patient@example.com\"   # replace with patient email\n",
        "\n",
        "    reminders = [\n",
        "        \"Reminder 1: Your appointment is coming up.\",\n",
        "        \"Reminder 2: Please confirm and complete your intake forms.\",\n",
        "        \"Reminder 3: Final reminder. Confirm or cancel your appointment.\"\n",
        "    ]\n",
        "\n",
        "    for idx, reminder in enumerate(reminders, start=1):\n",
        "        # Simulate email/SMS sending\n",
        "        print(f\" Reminder #{idx} sent to {patient_name}: {reminder}\")\n",
        "        state[\"reminder_sent\"] = idx   # track how many sent\n",
        "\n",
        "    return state"
      ],
      "metadata": {
        "id": "FVRZNxtmXXu3"
      },
      "execution_count": null,
      "outputs": []
    },
    {
      "cell_type": "code",
      "source": [
        "final_state = app.invoke({\n",
        "    \"name\": \"Sanya Iyer\",\n",
        "    \"dob\": \"23-08-1974\",\n",
        "    \"location\": \"India\"\n",
        "})\n",
        "print(final_state)\n"
      ],
      "metadata": {
        "colab": {
          "base_uri": "https://localhost:8080/"
        },
        "id": "ccu3GLPfX1UE",
        "outputId": "b9f82cc5-3107-4266-c306-5098b14a5689"
      },
      "execution_count": null,
      "outputs": [
        {
          "output_type": "stream",
          "name": "stdout",
          "text": [
            " LLM Greeting: Okay, here's a short, friendly greeting for Sanya:\n",
            "\n",
            "\"Hello Sanya, welcome to our clinic! We're happy to help you with your appointment request. It's great to have you with us.\"\n",
            " New patient: Sanya Iyer\n",
            " Booked: Sanya Iyer with Dr. Chatterjee at 2025-09-04 11:00 (60 mins). Appointment ID: APT-20250903173218\n",
            " Insurance details captured\n",
            " LLM Confirmation: Subject: Appointment Confirmation - Sanya Iyer, September 4th\n",
            "\n",
            "Dear Sanya Iyer,\n",
            "\n",
            "This email confirms your appointment with Dr. Chatterjee on September 4th, 2025, at 11:00 AM.\n",
            "\n",
            "We look forward to seeing you then. Please do not hesitate to contact us if you have any questions or need to reschedule.\n",
            "\n",
            "Sincerely,\n",
            "\n",
            "[Your Name/Clinic Name]\n",
            " Intake form sent to demo_patient@example.com (simulated email).\n",
            " Reminder 1 to Sanya Iyer (demo_patient@example.com): Your appointment is on 2025-09-04 11:00.\n",
            " Reminder 2: patient did NOT complete forms after reminder (simulated).\n",
            " Reminder 3: already confirmed for Sanya Iyer. No further action.\n",
            "Report exported to appointments_report.xlsx\n",
            "{'name': 'Sanya Iyer', 'dob': '23-08-1974', 'doctor': 'Dr. Chatterjee', 'location': 'India', 'is_new_patient': True, 'appointment_time': '2025-09-04 11:00', 'appointment_id': 'APT-20250903173218', 'insurance_carrier': 'Blue Cross', 'insurance_member_id': '12345', 'insurance_group': 'A1B2', 'confirmation_status': 'confirmed', 'reminder_sent': 3}\n"
          ]
        }
      ]
    },
    {
      "cell_type": "code",
      "source": [
        "!pip install streamlit\n",
        "\n"
      ],
      "metadata": {
        "colab": {
          "base_uri": "https://localhost:8080/"
        },
        "id": "Lm6uvueKblFM",
        "outputId": "c8356263-3928-4836-9897-28786a90f127"
      },
      "execution_count": null,
      "outputs": [
        {
          "output_type": "stream",
          "name": "stdout",
          "text": [
            "Collecting streamlit\n",
            "  Downloading streamlit-1.49.1-py3-none-any.whl.metadata (9.5 kB)\n",
            "Requirement already satisfied: altair!=5.4.0,!=5.4.1,<6,>=4.0 in /usr/local/lib/python3.12/dist-packages (from streamlit) (5.5.0)\n",
            "Requirement already satisfied: blinker<2,>=1.5.0 in /usr/local/lib/python3.12/dist-packages (from streamlit) (1.9.0)\n",
            "Requirement already satisfied: cachetools<7,>=4.0 in /usr/local/lib/python3.12/dist-packages (from streamlit) (5.5.2)\n",
            "Requirement already satisfied: click<9,>=7.0 in /usr/local/lib/python3.12/dist-packages (from streamlit) (8.2.1)\n",
            "Requirement already satisfied: numpy<3,>=1.23 in /usr/local/lib/python3.12/dist-packages (from streamlit) (2.0.2)\n",
            "Requirement already satisfied: packaging<26,>=20 in /usr/local/lib/python3.12/dist-packages (from streamlit) (25.0)\n",
            "Requirement already satisfied: pandas<3,>=1.4.0 in /usr/local/lib/python3.12/dist-packages (from streamlit) (2.2.2)\n",
            "Requirement already satisfied: pillow<12,>=7.1.0 in /usr/local/lib/python3.12/dist-packages (from streamlit) (11.3.0)\n",
            "Requirement already satisfied: protobuf<7,>=3.20 in /usr/local/lib/python3.12/dist-packages (from streamlit) (5.29.5)\n",
            "Requirement already satisfied: pyarrow>=7.0 in /usr/local/lib/python3.12/dist-packages (from streamlit) (18.1.0)\n",
            "Requirement already satisfied: requests<3,>=2.27 in /usr/local/lib/python3.12/dist-packages (from streamlit) (2.32.4)\n",
            "Requirement already satisfied: tenacity<10,>=8.1.0 in /usr/local/lib/python3.12/dist-packages (from streamlit) (8.5.0)\n",
            "Requirement already satisfied: toml<2,>=0.10.1 in /usr/local/lib/python3.12/dist-packages (from streamlit) (0.10.2)\n",
            "Requirement already satisfied: typing-extensions<5,>=4.4.0 in /usr/local/lib/python3.12/dist-packages (from streamlit) (4.15.0)\n",
            "Requirement already satisfied: watchdog<7,>=2.1.5 in /usr/local/lib/python3.12/dist-packages (from streamlit) (6.0.0)\n",
            "Requirement already satisfied: gitpython!=3.1.19,<4,>=3.0.7 in /usr/local/lib/python3.12/dist-packages (from streamlit) (3.1.45)\n",
            "Collecting pydeck<1,>=0.8.0b4 (from streamlit)\n",
            "  Downloading pydeck-0.9.1-py2.py3-none-any.whl.metadata (4.1 kB)\n",
            "Requirement already satisfied: tornado!=6.5.0,<7,>=6.0.3 in /usr/local/lib/python3.12/dist-packages (from streamlit) (6.4.2)\n",
            "Requirement already satisfied: jinja2 in /usr/local/lib/python3.12/dist-packages (from altair!=5.4.0,!=5.4.1,<6,>=4.0->streamlit) (3.1.6)\n",
            "Requirement already satisfied: jsonschema>=3.0 in /usr/local/lib/python3.12/dist-packages (from altair!=5.4.0,!=5.4.1,<6,>=4.0->streamlit) (4.25.1)\n",
            "Requirement already satisfied: narwhals>=1.14.2 in /usr/local/lib/python3.12/dist-packages (from altair!=5.4.0,!=5.4.1,<6,>=4.0->streamlit) (2.2.0)\n",
            "Requirement already satisfied: gitdb<5,>=4.0.1 in /usr/local/lib/python3.12/dist-packages (from gitpython!=3.1.19,<4,>=3.0.7->streamlit) (4.0.12)\n",
            "Requirement already satisfied: python-dateutil>=2.8.2 in /usr/local/lib/python3.12/dist-packages (from pandas<3,>=1.4.0->streamlit) (2.9.0.post0)\n",
            "Requirement already satisfied: pytz>=2020.1 in /usr/local/lib/python3.12/dist-packages (from pandas<3,>=1.4.0->streamlit) (2025.2)\n",
            "Requirement already satisfied: tzdata>=2022.7 in /usr/local/lib/python3.12/dist-packages (from pandas<3,>=1.4.0->streamlit) (2025.2)\n",
            "Requirement already satisfied: charset_normalizer<4,>=2 in /usr/local/lib/python3.12/dist-packages (from requests<3,>=2.27->streamlit) (3.4.3)\n",
            "Requirement already satisfied: idna<4,>=2.5 in /usr/local/lib/python3.12/dist-packages (from requests<3,>=2.27->streamlit) (3.10)\n",
            "Requirement already satisfied: urllib3<3,>=1.21.1 in /usr/local/lib/python3.12/dist-packages (from requests<3,>=2.27->streamlit) (2.5.0)\n",
            "Requirement already satisfied: certifi>=2017.4.17 in /usr/local/lib/python3.12/dist-packages (from requests<3,>=2.27->streamlit) (2025.8.3)\n",
            "Requirement already satisfied: smmap<6,>=3.0.1 in /usr/local/lib/python3.12/dist-packages (from gitdb<5,>=4.0.1->gitpython!=3.1.19,<4,>=3.0.7->streamlit) (5.0.2)\n",
            "Requirement already satisfied: MarkupSafe>=2.0 in /usr/local/lib/python3.12/dist-packages (from jinja2->altair!=5.4.0,!=5.4.1,<6,>=4.0->streamlit) (3.0.2)\n",
            "Requirement already satisfied: attrs>=22.2.0 in /usr/local/lib/python3.12/dist-packages (from jsonschema>=3.0->altair!=5.4.0,!=5.4.1,<6,>=4.0->streamlit) (25.3.0)\n",
            "Requirement already satisfied: jsonschema-specifications>=2023.03.6 in /usr/local/lib/python3.12/dist-packages (from jsonschema>=3.0->altair!=5.4.0,!=5.4.1,<6,>=4.0->streamlit) (2025.4.1)\n",
            "Requirement already satisfied: referencing>=0.28.4 in /usr/local/lib/python3.12/dist-packages (from jsonschema>=3.0->altair!=5.4.0,!=5.4.1,<6,>=4.0->streamlit) (0.36.2)\n",
            "Requirement already satisfied: rpds-py>=0.7.1 in /usr/local/lib/python3.12/dist-packages (from jsonschema>=3.0->altair!=5.4.0,!=5.4.1,<6,>=4.0->streamlit) (0.27.0)\n",
            "Requirement already satisfied: six>=1.5 in /usr/local/lib/python3.12/dist-packages (from python-dateutil>=2.8.2->pandas<3,>=1.4.0->streamlit) (1.17.0)\n",
            "Downloading streamlit-1.49.1-py3-none-any.whl (10.0 MB)\n",
            "\u001b[2K   \u001b[90m━━━━━━━━━━━━━━━━━━━━━━━━━━━━━━━━━━━━━━━━\u001b[0m \u001b[32m10.0/10.0 MB\u001b[0m \u001b[31m65.4 MB/s\u001b[0m eta \u001b[36m0:00:00\u001b[0m\n",
            "\u001b[?25hDownloading pydeck-0.9.1-py2.py3-none-any.whl (6.9 MB)\n",
            "\u001b[2K   \u001b[90m━━━━━━━━━━━━━━━━━━━━━━━━━━━━━━━━━━━━━━━━\u001b[0m \u001b[32m6.9/6.9 MB\u001b[0m \u001b[31m111.8 MB/s\u001b[0m eta \u001b[36m0:00:00\u001b[0m\n",
            "\u001b[?25hInstalling collected packages: pydeck, streamlit\n",
            "Successfully installed pydeck-0.9.1 streamlit-1.49.1\n"
          ]
        }
      ]
    },
    {
      "cell_type": "code",
      "source": [],
      "metadata": {
        "id": "9M5YrQ8cpdpJ"
      },
      "execution_count": null,
      "outputs": []
    }
  ]
}